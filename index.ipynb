{
 "cells": [
  {
   "cell_type": "markdown",
   "metadata": {},
   "source": [
    "# SQL Sports Leagues Lab"
   ]
  },
  {
   "cell_type": "markdown",
   "metadata": {},
   "source": [
    "We are going to build a SQL database to help sports leagues keep track of of their teams and players.  We also will be able to log games and keep track of scores.  In this lab we will utilize all of the tools we learned in the previous lessons and labs.  We will make tables for `leagues`, `teams`, `players`, and `games`, populate these tables with data and make the proper associations, and query from these tables to select interesting information."
   ]
  },
  {
   "cell_type": "markdown",
   "metadata": {},
   "source": [
    "## Objectives\n",
    "\n",
    "1.  Review creating tables, altering tables, inserting data, and querying from tables\n",
    "2.  Become comfortable working with common data relationships \"has many\"/\"belongs to\" and \"many-to-many\"\n",
    "3.  Write advanced `SELECT` queries using `JOIN` statements and join tables"
   ]
  },
  {
   "cell_type": "markdown",
   "metadata": {},
   "source": [
    "### Part 1: `create.sql`\n",
    "\n",
    "Build the tables that will make up our Sports Leagues database.  Make sure the tables adhere to the following requirements:\n",
    "\n",
    "1.  `leagues` has a name\n",
    "2.  `teams` have a name and many players\n",
    "3.  `players` have a name and belong to a team\n",
    "4.  `games` have a date of the date datatype and a location\n",
    "5.  `teams` have many games and `games` are played by many teams.  Since this relationship is \"many-to-many\", we will need a join table.  Let's call this join table `team_games`, and it will have foreign keys to track team and game ids.  These foreign keys are responsible for establishing the many-to-many relationship.  `team_games` will also have a column called score that keeps track of that team's score for that particular game.\n",
    "6.  All tables will have an auto-incrementing `PRIMARY KEY` set to the integer data type\n"
   ]
  },
  {
   "cell_type": "markdown",
   "metadata": {},
   "source": [
    "### Part 2: `insert.sql`\n",
    "\n",
    "Once the tables are created, populate the database with data.  Feel free to create fictional leagues, teams, and games.  However, you tables should meet the following requirements.  There should be:\n",
    "\n",
    "1.  2 leagues\n",
    "2.  4 teams total, with 2 teams in each league\n",
    "3.  1 player on each team\n",
    "4.  3 total games, and teams are allowed to play teams from other leagues\n",
    "5.  Lastly, we will need to log scores and the relevant team and game ids into the `team_games` join table to build out the \"many-to-many\" relationship"
   ]
  },
  {
   "cell_type": "markdown",
   "metadata": {},
   "source": [
    "### Part 3: `update.sql`\n",
    "\n",
    "Two players want to change their names.  Fix the `players` table so that the first player's name is switched to \"Metta World Peace\" and the last player's name is changed to \"Chad OchoCinco\"."
   ]
  },
  {
   "cell_type": "markdown",
   "metadata": {},
   "source": [
    "### Part 4: `queries.py`\n",
    "\n",
    "Write queries in the `queries.py` file to get the tests to pass.  We have seeded the database with different data, so don't expect the data your input in the above files to be returned in your queries."
   ]
  }
 ],
 "metadata": {
  "kernelspec": {
   "display_name": "Python 3",
   "language": "python",
   "name": "python3"
  },
  "language_info": {
   "codemirror_mode": {
    "name": "ipython",
    "version": 3
   },
   "file_extension": ".py",
   "mimetype": "text/x-python",
   "name": "python",
   "nbconvert_exporter": "python",
   "pygments_lexer": "ipython3",
   "version": "3.6.4"
  }
 },
 "nbformat": 4,
 "nbformat_minor": 2
}
